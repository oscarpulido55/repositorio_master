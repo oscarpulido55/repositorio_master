{
 "cells": [
  {
   "cell_type": "markdown",
   "metadata": {},
   "source": [
    "# Entrada/salida de arrays NumPy"
   ]
  },
  {
   "cell_type": "markdown",
   "metadata": {},
   "source": [
    "NumPy tiene una categoría de funciones para grabar y recuperar arrays de disco: <https://docs.scipy.org/doc/numpy/reference/routines.io.html>"
   ]
  },
  {
   "cell_type": "code",
   "execution_count": 3,
   "metadata": {
    "collapsed": false
   },
   "outputs": [
    {
     "data": {
      "text/plain": [
       "array([ 1.68153653,  1.09700201,  1.70477127, -0.28278751, -0.06812643,\n",
       "       -1.14264716,  0.14950312,  0.14272231,  0.03263979,  0.71458445])"
      ]
     },
     "execution_count": 3,
     "metadata": {},
     "output_type": "execute_result"
    }
   ],
   "source": [
    "import numpy as np\n",
    "\n",
    "N = 10\n",
    "a = np.random.uniform(size=N)\n",
    "b = np.random.normal(size=N)\n",
    "b"
   ]
  },
  {
   "cell_type": "markdown",
   "metadata": {},
   "source": [
    "1.Guardar los arrays anteriores en formato específico de NumPy comprimido y formato de texto (sin comprimir)."
   ]
  },
  {
   "cell_type": "code",
   "execution_count": 4,
   "metadata": {
    "collapsed": false
   },
   "outputs": [],
   "source": [
    "path=\"/home/oscar/MASTER_BIG_DATA/4_ENTORNOS_DATA_SCIENCE_python/Ejercicio_Bloque1/\"\n",
    "np.save(path+\"arraya.npy\",a)\n",
    "np.save(path+\"arrayb.npy\",b)"
   ]
  },
  {
   "cell_type": "markdown",
   "metadata": {},
   "source": [
    "2.Comparar las diferencias de espacio en disco desde el mismo Notebook, y ver sus contenidos con el comando head del sistema operativo."
   ]
  },
  {
   "cell_type": "code",
   "execution_count": 5,
   "metadata": {
    "collapsed": false
   },
   "outputs": [
    {
     "name": "stdout",
     "output_type": "stream",
     "text": [
      "160\t/home/oscar/MASTER_BIG_DATA/4_ENTORNOS_DATA_SCIENCE_python/Ejercicio_Bloque1/arraya.npy\n",
      "160\t/home/oscar/MASTER_BIG_DATA/4_ENTORNOS_DATA_SCIENCE_python/Ejercicio_Bloque1/arrayb.npy\n",
      "�NUMPY\u0001\u0000F\u0000{'descr': '<f8', 'fortran_order': False, 'shape': (10,), }           \n",
      "�\f",
      "�o���?ޭc����?S]�\"���?�q\u0006\\\u0000��?]U_\u0007Y��?0�\u0013+˟�?���\u001b��?<�;����?��;�Ɩ�?P)�Y�\u001c",
      "�?�NUMPY\u0001\u0000F\u0000{'descr': '<f8', 'fortran_order': False, 'shape': (10,), }           \n",
      "1�\u0014ڒ��?�dj�Q��?ͦ�=�F�?\u001e",
      "XI�0\u0019ҿw2iʻp��qe�cHH�m��\n",
      "�\"�?<�7��D�?B�5�)��?��\u001d",
      "4���?"
     ]
    }
   ],
   "source": [
    "!du -bsh -b /home/oscar/MASTER_BIG_DATA/4_ENTORNOS_DATA_SCIENCE_python/Ejercicio_Bloque1/arraya.npy\n",
    "!du -bsh -b /home/oscar/MASTER_BIG_DATA/4_ENTORNOS_DATA_SCIENCE_python/Ejercicio_Bloque1/arrayb.npy\n",
    "\n",
    "!head /home/oscar/MASTER_BIG_DATA/4_ENTORNOS_DATA_SCIENCE_python/Ejercicio_Bloque1/arraya.npy\n",
    "!head /home/oscar/MASTER_BIG_DATA/4_ENTORNOS_DATA_SCIENCE_python/Ejercicio_Bloque1/arrayb.npy"
   ]
  },
  {
   "cell_type": "markdown",
   "metadata": {},
   "source": [
    "3.Cargarlos de nuevo en memoria con nombres de variable diferentes."
   ]
  },
  {
   "cell_type": "code",
   "execution_count": 6,
   "metadata": {
    "collapsed": false
   },
   "outputs": [
    {
     "name": "stdout",
     "output_type": "stream",
     "text": [
      "[ 0.87414476  0.55868135  0.65072972  0.04209138  0.51737644  0.05981288\n",
      "  0.70484725  0.26274724  0.54965532  0.07856228]\n",
      "[ 1.68153653  1.09700201  1.70477127 -0.28278751 -0.06812643 -1.14264716\n",
      "  0.14950312  0.14272231  0.03263979  0.71458445]\n"
     ]
    }
   ],
   "source": [
    "c=np.load(path+\"arraya.npy\")\n",
    "d=np.load(path+\"arrayb.npy\")\n",
    "print c\n",
    "print d"
   ]
  },
  {
   "cell_type": "markdown",
   "metadata": {},
   "source": [
    "4.(opcional) Guardar los dos arrays en un solo fichero de texto y recuperarlos de nuevo. Pista:\n",
    "utilizar tuplas."
   ]
  },
  {
   "cell_type": "code",
   "execution_count": 7,
   "metadata": {
    "collapsed": false
   },
   "outputs": [
    {
     "name": "stdout",
     "output_type": "stream",
     "text": [
      "[ 0.87414476  0.55868135  0.65072972  0.04209138  0.51737644  0.05981288\n",
      "  0.70484725  0.26274724  0.54965532  0.07856228]\n",
      "[ 1.68153653  1.09700201  1.70477127 -0.28278751 -0.06812643 -1.14264716\n",
      "  0.14950312  0.14272231  0.03263979  0.71458445]\n"
     ]
    }
   ],
   "source": [
    "tupla_arrays=(a,b)\n",
    "np.save(path+\"2in1.npy\",tupla_arrays)\n",
    "tup_read=np.load(path+\"2in1.npy\")\n",
    "print tup_read[0]\n",
    "print tup_read[1]"
   ]
  },
  {
   "cell_type": "markdown",
   "metadata": {},
   "source": [
    "# Generación de datos - distribuciones de SciPy"
   ]
  },
  {
   "cell_type": "markdown",
   "metadata": {},
   "source": [
    "SciPy tiene un buen número de distribuciones de probabilidad conocidas implementadas, continuas y\n",
    "discretas: <https://docs.scipy.org/doc/scipy/reference/stats.html>\n",
    "Por ejemplo, podemos trabajar con distribuciones normales de la siguiente forma."
   ]
  },
  {
   "cell_type": "code",
   "execution_count": 8,
   "metadata": {
    "collapsed": false
   },
   "outputs": [
    {
     "name": "stdout",
     "output_type": "stream",
     "text": [
      "(array(5.0), array(1.0))\n"
     ]
    },
    {
     "data": {
      "text/plain": [
       "[<matplotlib.lines.Line2D at 0x7f4ba28b2fd0>]"
      ]
     },
     "execution_count": 8,
     "metadata": {},
     "output_type": "execute_result"
    },
    {
     "data": {
      "image/png": "[encoded data removed]",
      "text/plain": [
       "<matplotlib.figure.Figure at 0x7f4ba72afe50>"
      ]
     },
     "metadata": {},
     "output_type": "display_data"
    }
   ],
   "source": [
    "from scipy.stats import norm\n",
    "# Creamos una distribució normal con media 5.\n",
    "mi_normal = norm(5)\n",
    "# Obtenemos los percentiles de los extremos de la distribución:\n",
    "x= np.linspace(mi_normal.ppf(0.001), mi_normal.ppf(0.999), 100)\n",
    "#Obtenemos los estadísticos comunes:\n",
    "m,v= mi_normal.stats(moments='mv')\n",
    "print(m,v)\n",
    "# Dibujamos la función\n",
    "%matplotlib inline\n",
    "\n",
    "import matplotlib.pyplot as plt\n",
    "plt.plot(x, mi_normal.pdf(x), 'r-', lw=3)"
   ]
  },
  {
   "cell_type": "markdown",
   "metadata": {},
   "source": [
    "Podemos generar a su vez datos aleatorios para simular una muestra de la siguiente manera."
   ]
  },
  {
   "cell_type": "code",
   "execution_count": 9,
   "metadata": {
    "collapsed": false
   },
   "outputs": [
    {
     "data": {
      "text/plain": [
       "(array([ 0.00372154,  0.        ,  0.        ,  0.00372154,  0.        ,\n",
       "         0.01860771,  0.04093696,  0.06326621,  0.09676009,  0.13397551,\n",
       "         0.17863401,  0.26050794,  0.27911565,  0.3461034 ,  0.45402812,\n",
       "         0.37215419,  0.35726803,  0.33866032,  0.28283719,  0.17119093,\n",
       "         0.12281088,  0.08559546,  0.05582313,  0.01860771,  0.02232925,\n",
       "         0.00744308,  0.00372154,  0.00372154]),\n",
       " array([ 0.92880683,  1.19751266,  1.46621849,  1.73492431,  2.00363014,\n",
       "         2.27233596,  2.54104179,  2.80974761,  3.07845344,  3.34715927,\n",
       "         3.61586509,  3.88457092,  4.15327674,  4.42198257,  4.69068839,\n",
       "         4.95939422,  5.22810005,  5.49680587,  5.7655117 ,  6.03421752,\n",
       "         6.30292335,  6.57162918,  6.840335  ,  7.10904083,  7.37774665,\n",
       "         7.64645248,  7.9151583 ,  8.18386413,  8.45256996]),\n",
       " <a list of 28 Patch objects>)"
      ]
     },
     "execution_count": 9,
     "metadata": {},
     "output_type": "execute_result"
    },
    {
     "data": {
      "image/png": "[encoded data removed]",
      "text/plain": [
       "<matplotlib.figure.Figure at 0x7f4bb41e7410>"
      ]
     },
     "metadata": {},
     "output_type": "display_data"
    }
   ],
   "source": [
    "r = mi_normal.rvs(size=1000)\n",
    "plt.hist(r, normed=True, alpha=0.2, bins=\"auto\")"
   ]
  },
  {
   "cell_type": "markdown",
   "metadata": {},
   "source": [
    "Queremos ahora estudiar la distribución de Pareto. Podemos ver su forma en Wikipedia: <https://es.wikipedia.org/wiki/Distribuci%C3%B3n_de_Pareto>"
   ]
  },
  {
   "cell_type": "markdown",
   "metadata": {},
   "source": [
    "Se pide lo siguiente:\n",
    "- Representar las funciones de densidad y de probabilidad similares a las de Wikipedia."
   ]
  },
  {
   "cell_type": "code",
   "execution_count": 10,
   "metadata": {
    "collapsed": false
   },
   "outputs": [
    {
     "data": {
      "text/plain": [
       "<matplotlib.text.Text at 0x7f4ba283bf10>"
      ]
     },
     "execution_count": 10,
     "metadata": {},
     "output_type": "execute_result"
    },
    {
     "data": {
      "image/png": "[encoded data removed]",
      "text/plain": [
       "<matplotlib.figure.Figure at 0x7f4bcc607750>"
      ]
     },
     "metadata": {},
     "output_type": "display_data"
    }
   ],
   "source": [
    "from scipy.stats import pareto\n",
    "import matplotlib.pyplot as plt\n",
    "import numpy as np\n",
    "\n",
    "# Parametro de forma.\n",
    "k = 3 \n",
    "# Distribució de pareto con parametro de forma k.\n",
    "mi_pareto = pareto(k)\n",
    "# Percentiles de los extremos de la distribución:\n",
    "xpar= np.linspace(mi_pareto.ppf(0.001), mi_pareto.ppf(0.999), 100)\n",
    "# Funcion de probabilidad\n",
    "fp=mi_pareto.pdf(xpar)\n",
    "# Dibujamos la función\n",
    "%matplotlib inline\n",
    "\n",
    "plt.plot(xpar, fp)\n",
    "plt.title(\"Distribucion de Pareto\")\n",
    "plt.ylabel(\"probabilidad\")\n",
    "plt.xlabel(\"valores\")"
   ]
  },
  {
   "cell_type": "markdown",
   "metadata": {
    "collapsed": true
   },
   "source": [
    "Hallar el percentil del 80% con k=1. Razonar sobre el Principio de Pareto, se puede consultar\n",
    "aquí: <https://en.wikipedia.org/wiki/Pareto_principle>"
   ]
  },
  {
   "cell_type": "code",
   "execution_count": 11,
   "metadata": {
    "collapsed": false
   },
   "outputs": [
    {
     "name": "stdout",
     "output_type": "stream",
     "text": [
      "<scipy.stats._distn_infrastructure.rv_frozen object at 0x7f4ba2123610>\n"
     ]
    },
    {
     "data": {
      "text/plain": [
       "[<matplotlib.lines.Line2D at 0x7f4ba20c6510>]"
      ]
     },
     "execution_count": 11,
     "metadata": {},
     "output_type": "execute_result"
    },
    {
     "data": {
      "image/png": "[encoded data removed]",
      "text/plain": [
       "<matplotlib.figure.Figure at 0x7f4ba21f8450>"
      ]
     },
     "metadata": {},
     "output_type": "display_data"
    }
   ],
   "source": [
    "# Parametro de forma.\n",
    "k = 1\n",
    "# Distribució de pareto con parametro de forma k.\n",
    "mi_pareto = pareto(k)\n",
    "print mi_pareto\n",
    "# Hallar el percentil del 80%\n",
    "xpar= np.linspace(mi_pareto.ppf(0.001), mi_pareto.ppf(0.8), 100)\n",
    "#print xpar\n",
    "# Funcion de probabilidad\n",
    "fp=mi_pareto.pdf(xpar)\n",
    "# Dibujo de la función\n",
    "%matplotlib inline\n",
    "plt.plot(xpar, fp)\n",
    "\n",
    "#TODO - No entiendo la instruccion \"Razonar sobre el Principio de Pareto\""
   ]
  },
  {
   "cell_type": "markdown",
   "metadata": {},
   "source": [
    "# Generación de datos - otras distribuciones"
   ]
  },
  {
   "cell_type": "markdown",
   "metadata": {},
   "source": [
    "Si no encontrásemos la distribución en las bibliotecas de ScyPy pero la conocemos (\"sabemos la\n",
    "fórmula\"), siempre podemos generar los datos aleatorios generando un array con los datos en el rango\n",
    "en que está definida, y después tomando aleaoriamente un número de elementos de allí (\"con\n",
    "reemplazo\").\n",
    "Vamos a pensar si tenemos esta función: $f(t)$ definida por: $$f(t)=\\begin{cases} 0, & t<0, \\ \\frac{2t}\n",
    "{(1+t^2)^2}, & t \\ge 0 \\end{cases}$$\n",
    "Se pide:\n",
    "- Dibujar la función en el rango [0, 10].\n",
    "- Generar una muestra aleatoria de la misma.\n",
    "- Dibujar esa muestra y su histograma."
   ]
  },
  {
   "cell_type": "code",
   "execution_count": 12,
   "metadata": {
    "collapsed": false
   },
   "outputs": [
    {
     "name": "stdout",
     "output_type": "stream",
     "text": [
      "[0.0, 0.5, 0.16, 0.06, 0.02768166089965398, 0.014792899408284023, 0.008765522279035792, 0.0056, 0.00378698224852071, 0.002676977989292088]\n"
     ]
    },
    {
     "data": {
      "text/plain": [
       "[<matplotlib.lines.Line2D at 0x7f4ba1ffcf50>]"
      ]
     },
     "execution_count": 12,
     "metadata": {},
     "output_type": "execute_result"
    },
    {
     "data": {
      "image/png": "[encoded data removed]",
      "text/plain": [
       "<matplotlib.figure.Figure at 0x7f4bb4234210>"
      ]
     },
     "metadata": {},
     "output_type": "display_data"
    }
   ],
   "source": [
    "###-------Dibujar la función en el rango [0, 10].-------##\n",
    "\n",
    "# Distribucion de f(t) para t.\n",
    "def funcb(t):\n",
    "    num=0.0\n",
    "    if(t>=0.0):\n",
    "        num= (2.0*t)/((1.0+t**2.0)**2.0)\n",
    "    return num\n",
    "def funca(ini,fin):\n",
    "    res=[]\n",
    "    for t in range(ini,fin):\n",
    "        res.append(funcb(t))\n",
    "    return res\n",
    "\n",
    "# Parametro de funcion, rango\n",
    "ini=0\n",
    "fin=10\n",
    "mi_dis = funca(ini,fin)\n",
    "print mi_dis\n",
    "# Dibujo de la función\n",
    "%matplotlib inline\n",
    "plt.plot(mi_dis)"
   ]
  },
  {
   "cell_type": "markdown",
   "metadata": {},
   "source": [
    "- Generar una muestra aleatoria de la misma."
   ]
  },
  {
   "cell_type": "code",
   "execution_count": 13,
   "metadata": {
    "collapsed": false
   },
   "outputs": [
    {
     "name": "stdout",
     "output_type": "stream",
     "text": [
      "[8.1809513600126379e-05, 8.1809513600126379e-05, 0.00012759138094703426, 0.00012759138094703426, 0.00012759138094703426, 0.00014417488413445511, 0.00018705494739079605, 0.00040428061831153389, 0.00040428061831153389, 0.00040428061831153389, 0.00048448878862662569, 0.00048448878862662569, 0.00058736001253034697, 0.0011414982164090369, 0.0019605920988138418, 0.00378698224852071, 0.00378698224852071, 0.00378698224852071, 0.014792899408284023, 0.02768166089965398]\n"
     ]
    }
   ],
   "source": [
    "###-------Generar una muestra aleatoria de la misma-------##\n",
    "## 20 valores entre 0 y 30\n",
    "random_sample=[]\n",
    "for randn in np.random.randint(0,30,20):\n",
    "    random_sample.append(funcb(randn))\n",
    "print sorted(random_sample)\n"
   ]
  },
  {
   "cell_type": "markdown",
   "metadata": {},
   "source": [
    "- Dibujar esa muestra y su histograma."
   ]
  },
  {
   "cell_type": "code",
   "execution_count": 14,
   "metadata": {
    "collapsed": false
   },
   "outputs": [
    {
     "data": {
      "text/plain": [
       "[<matplotlib.lines.Line2D at 0x7f4ba1f423d0>]"
      ]
     },
     "execution_count": 14,
     "metadata": {},
     "output_type": "execute_result"
    },
    {
     "data": {
      "image/png": "[encoded data removed]",
      "text/plain": [
       "<matplotlib.figure.Figure at 0x7f4ba20fdb10>"
      ]
     },
     "metadata": {},
     "output_type": "display_data"
    }
   ],
   "source": [
    "# Dibujo de la muestra\n",
    "%matplotlib inline\n",
    "plt.plot(sorted(random_sample,reverse=True))"
   ]
  },
  {
   "cell_type": "code",
   "execution_count": 15,
   "metadata": {
    "collapsed": false
   },
   "outputs": [
    {
     "data": {
      "text/plain": [
       "(array([ 13.,   1.,   0.,   1.,   0.,   0.,   3.,   0.,   0.,   0.,   0.,\n",
       "          0.,   0.,   0.,   0.,   0.,   0.,   0.,   0.,   0.,   0.,   0.,\n",
       "          0.,   0.,   0.,   0.,   1.,   0.,   0.,   0.,   0.,   0.,   0.,\n",
       "          0.,   0.,   0.,   0.,   0.,   0.,   0.,   0.,   0.,   0.,   0.,\n",
       "          0.,   0.,   0.,   0.,   0.,   1.]),\n",
       " array([  8.18095136e-05,   6.33806541e-04,   1.18580357e-03,\n",
       "          1.73780060e-03,   2.28979762e-03,   2.84179465e-03,\n",
       "          3.39379168e-03,   3.94578871e-03,   4.49778574e-03,\n",
       "          5.04978276e-03,   5.60177979e-03,   6.15377682e-03,\n",
       "          6.70577385e-03,   7.25777087e-03,   7.80976790e-03,\n",
       "          8.36176493e-03,   8.91376196e-03,   9.46575898e-03,\n",
       "          1.00177560e-02,   1.05697530e-02,   1.11217501e-02,\n",
       "          1.16737471e-02,   1.22257441e-02,   1.27777412e-02,\n",
       "          1.33297382e-02,   1.38817352e-02,   1.44337322e-02,\n",
       "          1.49857293e-02,   1.55377263e-02,   1.60897233e-02,\n",
       "          1.66417203e-02,   1.71937174e-02,   1.77457144e-02,\n",
       "          1.82977114e-02,   1.88497085e-02,   1.94017055e-02,\n",
       "          1.99537025e-02,   2.05056995e-02,   2.10576966e-02,\n",
       "          2.16096936e-02,   2.21616906e-02,   2.27136877e-02,\n",
       "          2.32656847e-02,   2.38176817e-02,   2.43696787e-02,\n",
       "          2.49216758e-02,   2.54736728e-02,   2.60256698e-02,\n",
       "          2.65776668e-02,   2.71296639e-02,   2.76816609e-02]),\n",
       " <a list of 50 Patch objects>)"
      ]
     },
     "execution_count": 15,
     "metadata": {},
     "output_type": "execute_result"
    },
    {
     "data": {
      "image/png": "[encoded data removed]",
      "text/plain": [
       "<matplotlib.figure.Figure at 0x7f4ba1f782d0>"
      ]
     },
     "metadata": {},
     "output_type": "display_data"
    }
   ],
   "source": [
    "plt.hist(sorted(random_sample), bins=50)"
   ]
  },
  {
   "cell_type": "markdown",
   "metadata": {},
   "source": [
    "# Generación de datos censurados"
   ]
  },
  {
   "cell_type": "markdown",
   "metadata": {},
   "source": [
    "En las técnicas de análisis estadístico conocidas como \"análisis de supervivencia\" se considera el\n",
    "tiempo hasta un evento. Por ejemplo, en enfermos de cáncer, sería el tiempo hasta el fallecimiento o al final del estudio.\n",
    "\n",
    "Si alguno de los enfermos en estudio antes de fallecer abandona el estudio (por ejemplo, emigra a otro\n",
    "país) decimos que el dato está \"censurado\" porque tenemos la fecha en la que se fue, que es\n",
    "lógicamente inferior a la fecha desconocida de su fallecimiento. También son datos \"censurados\" los\n",
    "tiempos de los pacientes que al terminar el estudio aún siguen vivos.\n",
    "\n",
    "Generar datos censurados sintéticos requiere por tanto dos pasos:\n",
    "- Generar aleatorios con la distribución(-es) de los tiempos de fallecimiento.\n",
    "- Decidir el tiempo en que termina el estudio y ajustar los tiempos a ese máximo.\n",
    "\n",
    "Por otro lado, en la mayoría de los estudios se tiene dos grupos que se comparan. Vamos a simular dos\n",
    "grupos de pacientes con diferente distribución e influir datos censurados.\n",
    "Se pide generar unos datos simulados de dos poblacioens de pacientes:\n",
    "- Cuyo tiempo de supervivencia sigue una distribución exponencial en ambos casos, pero con\n",
    "parámetros diferentes (por ejemplo, 12 y 2). Pista: Crear dos arrays de aleatorios, o un array con\n",
    "tuplas.\n",
    "- En la que se mezclan aleatoriamente un número de unos u otros. Pista: utilizar la distribución\n",
    "uniform() e indexar una u otra de las series.\n",
    "- En la que finalmente, el estudio termina en el tiempo $t=10$."
   ]
  },
  {
   "cell_type": "code",
   "execution_count": 199,
   "metadata": {
    "collapsed": false
   },
   "outputs": [
    {
     "name": "stdout",
     "output_type": "stream",
     "text": [
      "[9.4832179938908343, 9.234940228354299, 9.4319941745035312, 9.9805145495768617, 9.9106812024278437, 9.9721299333979623, 9.4445930295680522, 9.7503069676237732, 9.5479887012214739, 9.8730571171894272, 9.2205758165009328, 7.2514743175128142, 7.1157562155019782, 7.0189341255844617, 7.2240859828864199, 8.3078443357346874, 6.1177453983582843, 6.3990606385454161, 6.7021110034238447, 7.1902674338128438, 6.3605678897119819, 6.0186130646738754, 6.0462032650015596, 6.0084762865777854, 8.3632522789156205, 6.3917027095032237, 6.3015404983832433, 6.8804995458804239, 6.1462251605742306, 8.1578683466206314]\n",
      "30\n"
     ]
    },
    {
     "data": {
      "text/plain": [
       "[<matplotlib.lines.Line2D at 0x7f9e9bd96210>]"
      ]
     },
     "execution_count": 199,
     "metadata": {},
     "output_type": "execute_result"
    },
    {
     "data": {
      "image/png": "[encoded data removed]",
      "text/plain": [
       "<matplotlib.figure.Figure at 0x7f9e9beca590>"
      ]
     },
     "metadata": {},
     "output_type": "display_data"
    }
   ],
   "source": [
    "from scipy.stats import expon\n",
    "\n",
    "t=10\n",
    "#Generar aleatorios con la distribución(-es) de los tiempos de fallecimiento.\n",
    "ar1 = expon.rvs(9,size=20)\n",
    "ar2 = expon.rvs(6,size=20)\n",
    "censored=[]\n",
    "for val in np.concatenate((ar1,ar2),axis=0):\n",
    "    if(val<=t):\n",
    "        censored.append(val)\n",
    "print censored\n",
    "print len(censored)\n",
    "plt.plot(sorted(censored))\n",
    "        \n"
   ]
  },
  {
   "cell_type": "code",
   "execution_count": null,
   "metadata": {
    "collapsed": true
   },
   "outputs": [],
   "source": []
  },
  {
   "cell_type": "code",
   "execution_count": null,
   "metadata": {
    "collapsed": true
   },
   "outputs": [],
   "source": []
  }
 ],
 "metadata": {
  "anaconda-cloud": {},
  "kernelspec": {
   "display_name": "Python [conda root]",
   "language": "python",
   "name": "conda-root-py"
  },
  "language_info": {
   "codemirror_mode": {
    "name": "ipython",
    "version": 2
   },
   "file_extension": ".py",
   "mimetype": "text/x-python",
   "name": "python",
   "nbconvert_exporter": "python",
   "pygments_lexer": "ipython2",
   "version": "2.7.12"
  }
 },
 "nbformat": 4,
 "nbformat_minor": 1
}
